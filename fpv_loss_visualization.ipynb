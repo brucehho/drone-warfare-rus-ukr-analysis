{
 "cells": [
  {
   "cell_type": "code",
   "execution_count": null,
   "id": "30ebf4bb",
   "metadata": {},
   "outputs": [],
   "source": [
    "\"\"\"\n",
    "This script visualizes FPV drone loss data and their impact on mobility assets using open-source data (e.g., Oryx).\n",
    "\"\"\"\n",
    "\n",
    "import pandas as pd\n",
    "import matplotlib.pyplot as plt\n",
    "\n",
    "# Load sample data (replace with actual data path)\n",
    "df = pd.read_csv(\n",
    "    \"../data/oryx_losses.csv\"\n",
    ")  # columns: ['date', 'vehicle_type', 'loss_type', 'location']\n",
    "\n",
    "# Filter for FPV-related losses\n",
    "df_fpv = df[df[\"loss_type\"].str.contains(\"FPV\", case=False, na=False)]\n",
    "\n",
    "# Count losses by vehicle type\n",
    "loss_counts = df_fpv[\"vehicle_type\"].value_counts()\n",
    "\n",
    "# Plot\n",
    "plt.figure(figsize=(10, 6))\n",
    "loss_counts.plot(kind=\"bar\")\n",
    "plt.title(\"FPV-Attributed Losses by Vehicle Type\")\n",
    "plt.xlabel(\"Vehicle Type\")\n",
    "plt.ylabel(\"Number of Losses\")\n",
    "plt.grid(axis=\"y\")\n",
    "plt.tight_layout()\n",
    "plt.savefig(\"../graphics/fpv_vehicle_losses.png\")\n",
    "plt.show()\n"
   ]
  }
 ],
 "metadata": {
  "kernelspec": {
   "display_name": "base",
   "language": "python",
   "name": "python3"
  },
  "language_info": {
   "name": "python",
   "version": "3.11.5"
  }
 },
 "nbformat": 4,
 "nbformat_minor": 5
}
